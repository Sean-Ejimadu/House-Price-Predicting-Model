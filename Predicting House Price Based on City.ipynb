{
 "cells": [
  {
   "cell_type": "markdown",
   "id": "6cbccbce-5b51-4905-ab27-ad7e3c4e2516",
   "metadata": {},
   "source": [
    "Predicting House Price Based on City\n",
    "\n",
    "Goal\n",
    "\n",
    "Build a model to predict house price based on city"
   ]
  },
  {
   "cell_type": "code",
   "execution_count": 20,
   "id": "accb794e-b3e8-4da3-8c0a-40436e75d62e",
   "metadata": {},
   "outputs": [],
   "source": [
    "#Import Libraries\n",
    "import pandas as pd\n",
    "import warnings\n",
    "import numpy as np\n",
    "import plotly.express as px\n",
    "import matplotlib.pyplot as plt\n",
    "from category_encoders import OneHotEncoder\n",
    "from sklearn.impute import SimpleImputer\n",
    "from sklearn.linear_model import LinearRegression, Ridge\n",
    "from sklearn.metrics import mean_absolute_error\n",
    "from sklearn.pipeline import Pipeline, make_pipeline\n",
    "from sklearn.utils.validation import check_is_fitted\n",
    "warnings.simplefilter(action=\"ignore\", category=UserWarning)"
   ]
  },
  {
   "cell_type": "markdown",
   "id": "2bcaf00b-bc5f-4426-a9ea-48c83378b83a",
   "metadata": {},
   "source": [
    "For this project i would be using a wrangle function to clean my data"
   ]
  },
  {
   "cell_type": "code",
   "execution_count": 21,
   "id": "2354eb8c-4d38-42fb-b486-ad79d1e45352",
   "metadata": {},
   "outputs": [],
   "source": [
    "def wrangle(filepath):\n",
    "    #Read csv file\n",
    "    df = pd.read_csv(filepath)\n",
    "    df.drop(columns=\"prev_sold_date\", inplace=True)\n",
    "    #drop NAN values\n",
    "    df.dropna(how=\"any\", inplace=True)\n",
    "    #Create a new column called \"price_in_USD\" using \"price\"\n",
    "    df[\"price_in_USD\"] = df[\"price\"].astype(int)\n",
    "    #Convert \"acre_lot\" to m2\n",
    "    df[\"area_in_m2\"] = (df[\"acre_lot\"] * 4_046.86).astype(int)\n",
    "    #Calculate price per m2\n",
    "    df[\"price_per_m2\"] = (df[\"price_in_USD\"] / df[\"area_in_m2\"]).round(0)\n",
    "    #Subset Data: i would be focusing on the houses in the state \"Puerto Rico\" < 400,000 and that are for_sale\n",
    "    mask_sale=df[\"status\"]==\"for_sale\"\n",
    "    mask_state=df[\"state\"]==\"Puerto Rico\"\n",
    "    mask_price = df[\"price_in_USD\"]< 400_000\n",
    "    df=df[mask_sale & mask_state & mask_price]\n",
    "    #Subset Data: Remove outliers in \"area_in_m2\"\n",
    "    low,high=df[\"area_in_m2\"].quantile([0.1,0.9])\n",
    "    mask_area = df[\"area_in_m2\"].between(low,high)\n",
    "    df = df[mask_area]\n",
    "    df.drop(columns=[\"street\",\"state\",\"zip_code\",\"house_size\",\"brokered_by\",\"status\",\"price\",\"bed\",\"bath\",\"acre_lot\"], inplace=True)\n",
    "    df = df.reset_index(drop=True)\n",
    "    return df\n",
    "    "
   ]
  },
  {
   "cell_type": "code",
   "execution_count": null,
   "id": "e14d1484-d9a4-4b87-8d00-c754f32b906a",
   "metadata": {},
   "outputs": [],
   "source": [
    "df = wrangle(\"data/realtor-data.csv\")"
   ]
  },
  {
   "cell_type": "code",
   "execution_count": null,
   "id": "082f0836-a938-4ce3-94a2-6b47a3182813",
   "metadata": {},
   "outputs": [],
   "source": [
    "df.tail()"
   ]
  },
  {
   "cell_type": "markdown",
   "id": "30344f78-df17-4d1d-92c9-e7d6a4c3dde7",
   "metadata": {},
   "source": [
    "Spliting my data to creating my test dataset"
   ]
  },
  {
   "cell_type": "code",
   "execution_count": null,
   "id": "da84ebff-d61f-4610-801d-bf3255a83597",
   "metadata": {},
   "outputs": [],
   "source": [
    "cutoff = int(len(df) * 0.8)"
   ]
  },
  {
   "cell_type": "code",
   "execution_count": null,
   "id": "0bee440b-1686-4569-a6ff-35638de3d95a",
   "metadata": {},
   "outputs": [],
   "source": [
    "dt = df.iloc[:cutoff]\n",
    "dt.tail()"
   ]
  },
  {
   "cell_type": "code",
   "execution_count": null,
   "id": "5c4c57f9-5fbb-4b85-a613-74ea1b61859a",
   "metadata": {},
   "outputs": [],
   "source": [
    "Test_data = df.iloc[cutoff:]\n",
    "Test_data.head()"
   ]
  },
  {
   "cell_type": "markdown",
   "id": "341987e7-91d8-4192-ab4f-4abdaee59243",
   "metadata": {},
   "source": [
    "Saving my test_data DataFrame in a CSV format"
   ]
  },
  {
   "cell_type": "markdown",
   "id": "b4cd862f-4120-44d9-9700-46d4ab097dfe",
   "metadata": {},
   "source": [
    "Test_data.to_csv(\"realtor-data_test.csv\", index=False)"
   ]
  },
  {
   "cell_type": "markdown",
   "id": "287d112c-17a5-4e1c-993d-3c9f572a19e8",
   "metadata": {},
   "source": [
    "Creating my feature matrix X_train and target vector y_train"
   ]
  },
  {
   "cell_type": "code",
   "execution_count": null,
   "id": "e2d1a790-aad2-4e8b-9387-1956684dbdb8",
   "metadata": {},
   "outputs": [],
   "source": [
    "target = \"price_per_m2\"\n",
    "features = [\"city\"]\n",
    "y_train = dt[target]\n",
    "X_train = dt[features]"
   ]
  },
  {
   "cell_type": "markdown",
   "id": "2329b7ba-cb1e-4632-baf8-bdef9c0eb4dc",
   "metadata": {},
   "source": [
    "calculating the baseline mean absolute error for my model"
   ]
  },
  {
   "cell_type": "code",
   "execution_count": null,
   "id": "5b09bd64-ee8c-4055-a466-22311ffa9c25",
   "metadata": {},
   "outputs": [],
   "source": [
    " y_mean = y_train.mean()\n",
    " y_pred_baseline = [y_mean] * len(y_train)\n",
    " Baseline_MAE = mean_absolute_error(y_train, y_pred_baseline)\n",
    " rounded_y_mean = round(y_mean, 2)\n",
    " rounded_Baseline_MAE = round(Baseline_MAE, 2)\n",
    " print(\"Mean_House_Price:\", rounded_y_mean)\n",
    " print(\"Baseline_MAE:\", rounded_Baseline_MAE)"
   ]
  },
  {
   "cell_type": "markdown",
   "id": "04d68f18-a80d-4f3d-a3f9-9f9dd9e835da",
   "metadata": {},
   "source": [
    "Now i build my model by creating a pipeline that contain all the transformers neccesary\n",
    "and a predictor"
   ]
  },
  {
   "cell_type": "code",
   "execution_count": null,
   "id": "9cad58e9-3936-4530-ba20-88936fd8df51",
   "metadata": {},
   "outputs": [],
   "source": [
    " model = make_pipeline(\n",
    "     OneHotEncoder(use_cat_names=True),\n",
    "     SimpleImputer(),\n",
    "     Ridge()\n",
    " )"
   ]
  },
  {
   "cell_type": "code",
   "execution_count": null,
   "id": "3ac8433f-3b73-47a2-9bd8-e37c225c17db",
   "metadata": {},
   "outputs": [],
   "source": [
    "  model.fit(X_train, y_train)"
   ]
  },
  {
   "cell_type": "markdown",
   "id": "ab69874d-6768-44a2-9173-56370af108fd",
   "metadata": {},
   "source": [
    "Calculating the training mean absolute error"
   ]
  },
  {
   "cell_type": "code",
   "execution_count": null,
   "id": "95878424-cd4e-428f-98ff-5f03c4089b63",
   "metadata": {},
   "outputs": [],
   "source": [
    " y_pred_training = model.predict(X_train)\n",
    "mae_training = mean_absolute_error(y_train, y_pred_training)\n",
    "print(\"Training MAE:\", round(mae_training, 2))"
   ]
  },
  {
   "cell_type": "markdown",
   "id": "20dd6782-7027-4aae-9b97-1cb3dc9626cb",
   "metadata": {},
   "source": [
    "With a Training MAE less than my Baseline MAE This suggests that my model is effective at reducing error \n",
    "compared to a naive model."
   ]
  },
  {
   "cell_type": "markdown",
   "id": "be31d987-f9e2-4e53-ac6b-0723da21a52c",
   "metadata": {},
   "source": [
    "Importing my test Data"
   ]
  },
  {
   "cell_type": "code",
   "execution_count": null,
   "id": "883aa822-d10b-4c9c-8dfe-048918aa9336",
   "metadata": {},
   "outputs": [],
   "source": [
    "X_test = pd.read_csv(\"data/realtor-data_test.csv\")"
   ]
  },
  {
   "cell_type": "code",
   "execution_count": null,
   "id": "49561872-f4df-41de-a2d7-6a2734a94ec9",
   "metadata": {},
   "outputs": [],
   "source": [
    "X_test.drop(columns= [\"price_in_USD\",\"area_in_m2\",\"price_per_m2\"],inplace=True)"
   ]
  },
  {
   "cell_type": "markdown",
   "id": "c6e3b8a4-4871-4072-a341-3dc770644986",
   "metadata": {},
   "source": [
    "Using my model to generate a series of prediction for X_test"
   ]
  },
  {
   "cell_type": "code",
   "execution_count": null,
   "id": "8567a356-979a-473b-8c65-e845b110ddf7",
   "metadata": {},
   "outputs": [],
   "source": [
    "y_test_pred = pd.Series(model.predict(X_test))"
   ]
  },
  {
   "cell_type": "code",
   "execution_count": null,
   "id": "1b09c7b0-26cf-41cd-b36b-d1e19f057efd",
   "metadata": {},
   "outputs": [],
   "source": [
    "y_test_pred.astype(int)"
   ]
  },
  {
   "cell_type": "code",
   "execution_count": null,
   "id": "40f3342a-6436-43db-8b87-f775755ebf0a",
   "metadata": {},
   "outputs": [],
   "source": [
    "coefficients = model.named_steps[\"ridge\"].coef_\n",
    "features = model.named_steps[\"onehotencoder\"].get_feature_names_out()\n",
    "feat_imp = pd.Series(coefficients, index=features).sort_values(key=abs).round(2)\n",
    "feat_imp"
   ]
  },
  {
   "cell_type": "markdown",
   "id": "26b3c1af-de21-4351-ad27-048d37fce0b9",
   "metadata": {},
   "source": [
    "Interpretation by visible output above: From the result above, the feature \"city_Guaynabo\" has the highest\n",
    "positive coefficient (\"274.28\"), meaning it has more significant positive impact on the target variable \n",
    "(\"house price\") when compaired to \"city_San Juan\" (\"216.68\"). The closer the coefficient is to zero, \n",
    "the less influence that feature (\"city\") has on the target variable (\"house price\")"
   ]
  },
  {
   "cell_type": "markdown",
   "id": "518c8341-c7ec-45e7-85cb-70cbcdb1d490",
   "metadata": {},
   "source": [
    "creating a horizontal bar chart that shows the 10 most influential coefficients for my model"
   ]
  },
  {
   "cell_type": "code",
   "execution_count": null,
   "id": "43a1f069-c240-4194-a125-4f813f44c38c",
   "metadata": {},
   "outputs": [],
   "source": [
    "feat_imp.tail(10).plot(kind=\"barh\")\n",
    "plt.xlabel(\"Importance [USD\")\n",
    "plt.ylabel(\"Feature\")\n",
    "plt.title(\"Feature Importance for Apartment Price\");"
   ]
  },
  {
   "cell_type": "markdown",
   "id": "d32d6e73-1540-4759-ab0d-a9967d65c687",
   "metadata": {},
   "source": [
    "Printing the equation that my model has determined for predicting house price based on city\n",
    "\n",
    "y = B0 + (B1*X1) + (B2*X2) + ... + (Bn*Xn)"
   ]
  },
  {
   "cell_type": "code",
   "execution_count": null,
   "id": "4404d946-da43-4710-95ff-bbf9c422280d",
   "metadata": {},
   "outputs": [],
   "source": [
    "intercept = model.named_steps[\"ridge\"].intercept_\n",
    "intercept"
   ]
  },
  {
   "cell_type": "code",
   "execution_count": null,
   "id": "33938e27-2003-4855-b3c5-b768a0604df1",
   "metadata": {},
   "outputs": [],
   "source": [
    "coefficients = model.named_steps[\"ridge\"].coef_\n",
    "print(coefficients[:5])"
   ]
  },
  {
   "cell_type": "code",
   "execution_count": 18,
   "id": "8f252cd6-16ca-459b-b42d-eb85a8cbb0b9",
   "metadata": {},
   "outputs": [
    {
     "ename": "NameError",
     "evalue": "name 'feat_imp' is not defined",
     "output_type": "error",
     "traceback": [
      "\u001b[1;31m---------------------------------------------------------------------------\u001b[0m",
      "\u001b[1;31mNameError\u001b[0m                                 Traceback (most recent call last)",
      "Cell \u001b[1;32mIn[18], line 2\u001b[0m\n\u001b[0;32m      1\u001b[0m equation_parts \u001b[38;5;241m=\u001b[39m []\n\u001b[1;32m----> 2\u001b[0m feat_items \u001b[38;5;241m=\u001b[39m \u001b[38;5;28mlist\u001b[39m(feat_imp\u001b[38;5;241m.\u001b[39mitems())\n\u001b[0;32m      4\u001b[0m \u001b[38;5;66;03m# Get the first two items\u001b[39;00m\n\u001b[0;32m      5\u001b[0m \u001b[38;5;28;01mfor\u001b[39;00m i, (f, c) \u001b[38;5;129;01min\u001b[39;00m \u001b[38;5;28menumerate\u001b[39m(feat_items[:\u001b[38;5;241m2\u001b[39m]):\n",
      "\u001b[1;31mNameError\u001b[0m: name 'feat_imp' is not defined"
     ]
    }
   ],
   "source": [
    "equation_parts = []\n",
    "feat_items = list(feat_imp.items())\n",
    "\n",
    "# Get the first two items\n",
    "for i, (f, c) in enumerate(feat_items[:2]):\n",
    "    equation_parts.append(f\"({round(c, 2)} * {f})\")\n",
    "\n",
    "# Add the last item\n",
    "f_last, c_last = feat_items[-1]\n",
    "equation_parts.append(f\"... + ({round(c_last, 2)} * {f_last})\")\n",
    "\n",
    "# Combine and print the equation\n",
    "equation = f\"price = {intercept.round(2)} + \" + \" + \".join(equation_parts)\n",
    "print(equation)"
   ]
  },
  {
   "cell_type": "code",
   "execution_count": null,
   "id": "8db62707-3d71-49e4-b98c-abedd10be999",
   "metadata": {},
   "outputs": [],
   "source": []
  }
 ],
 "metadata": {
  "kernelspec": {
   "display_name": "Python 3 (ipykernel)",
   "language": "python",
   "name": "python3"
  },
  "language_info": {
   "codemirror_mode": {
    "name": "ipython",
    "version": 3
   },
   "file_extension": ".py",
   "mimetype": "text/x-python",
   "name": "python",
   "nbconvert_exporter": "python",
   "pygments_lexer": "ipython3",
   "version": "3.12.3"
  }
 },
 "nbformat": 4,
 "nbformat_minor": 5
}
